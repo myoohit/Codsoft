{
  "nbformat": 4,
  "nbformat_minor": 0,
  "metadata": {
    "colab": {
      "provenance": [],
      "authorship_tag": "ABX9TyO0e/bLptBdTolOIh+D4VWN",
      "include_colab_link": true
    },
    "kernelspec": {
      "name": "python3",
      "display_name": "Python 3"
    },
    "language_info": {
      "name": "python"
    }
  },
  "cells": [
    {
      "cell_type": "markdown",
      "metadata": {
        "id": "view-in-github",
        "colab_type": "text"
      },
      "source": [
        "<a href=\"https://colab.research.google.com/github/myoohit/Codsoft/blob/main/codsoft_1.ipynb\" target=\"_parent\"><img src=\"https://colab.research.google.com/assets/colab-badge.svg\" alt=\"Open In Colab\"/></a>"
      ]
    },
    {
      "cell_type": "markdown",
      "source": [
        "##**Simple ChatBot**"
      ],
      "metadata": {
        "id": "vzdcXqm1-3bf"
      }
    },
    {
      "cell_type": "code",
      "execution_count": 12,
      "metadata": {
        "id": "zmkrWgcw6V9E"
      },
      "outputs": [],
      "source": [
        "#Function\n",
        "def chatbot_response(user_input):\n",
        "    user_input = user_input.lower()\n",
        "\n",
        "    if \"hello\" in user_input or \"hi\" in user_input:\n",
        "        return \"Hello! How can I help you today?\"\n",
        "    elif \"your name\" in user_input:\n",
        "        return \"I'm RuleBot, your simple chatbot assistant.\"\n",
        "    elif \"how are you\" in user_input:\n",
        "        return \"I'm just code, but thanks for asking! How about you?\"\n",
        "    elif \"bye\" in user_input or \"goodbye\" in user_input:\n",
        "        return \"Goodbye! Have a nice day!\"\n",
        "    else:\n",
        "        return \"I'm sorry, I didn't understand that. Can you try asking differently?\"\n"
      ]
    },
    {
      "cell_type": "code",
      "source": [
        "# Chat\n",
        "while True:\n",
        "    user_input = input(\"You: \")\n",
        "    if user_input.lower() in [\"exit\", \"quit\"]:\n",
        "        print(\"Chatbot: Goodbye!\")\n",
        "        break\n",
        "    response = chatbot_response(user_input)\n",
        "    print(\"Chatbot:\", response)\n"
      ],
      "metadata": {
        "colab": {
          "base_uri": "https://localhost:8080/"
        },
        "id": "p8pGfO0a72om",
        "outputId": "d8edc38e-6b92-407d-faec-c71dedfa9e22"
      },
      "execution_count": 21,
      "outputs": [
        {
          "output_type": "stream",
          "name": "stdout",
          "text": [
            "You: Hi\n",
            "Chatbot: Hello! How can I help you today?\n",
            "You: your name\n",
            "Chatbot: I'm RuleBot, your simple chatbot assistant.\n",
            "You: how are you?\n",
            "Chatbot: I'm just code, but I’m running smoothly. How about you?\n",
            "You: bye\n",
            "Chatbot: Goodbye! Take care!\n",
            "You: exit\n",
            "Chatbot: Goodbye!\n"
          ]
        }
      ]
    },
    {
      "cell_type": "markdown",
      "source": [
        "\n",
        "\n",
        "\n",
        "# **Enhanced User Input Matching Using Regular Expressions**"
      ],
      "metadata": {
        "id": "NtglNqdo-YYT"
      }
    },
    {
      "cell_type": "code",
      "source": [
        "import re\n"
      ],
      "metadata": {
        "id": "f6JgWsJe9Nch"
      },
      "execution_count": 15,
      "outputs": []
    },
    {
      "cell_type": "code",
      "source": [
        "def chatbot_speaks(user_input):\n",
        "    user_input = user_input.lower()\n",
        "\n",
        "    if re.search(r\"\\bhello\\b|\\bhi\\b|\\bhey\\b\", user_input):\n",
        "        return \"Hello! How can I help you today?\"\n",
        "    elif re.search(r\"\\b(your name|who are you)\\b\", user_input):\n",
        "        return \"I'm RuleBot, your simple chatbot assistant.\"\n",
        "    elif re.search(r\"\\bhow are you\\b\", user_input):\n",
        "        return \"I'm just code, but I’m running smoothly. How about you?\"\n",
        "    elif re.search(r\"\\b(bye|goodbye|see you)\\b\", user_input):\n",
        "        return \"Goodbye! Take care!\"\n",
        "    else:\n",
        "        return \"I'm not sure I understand. Can you try asking another way?\"\n"
      ],
      "metadata": {
        "id": "g5Czew3Z9Vfi"
      },
      "execution_count": 18,
      "outputs": []
    },
    {
      "cell_type": "code",
      "source": [
        "while True:\n",
        "    user_input = input(\"You: \")\n",
        "    if user_input.lower() in [\"exit\", \"quit\"]:\n",
        "        print(\"Chatbot: Goodbye!\")\n",
        "        break\n",
        "    response = chatbot_speaks(user_input)\n",
        "    print(\"Chatbot:\", response)\n"
      ],
      "metadata": {
        "colab": {
          "base_uri": "https://localhost:8080/"
        },
        "id": "JDTUa8QL9Y2o",
        "outputId": "652bed2f-62c5-46f2-98f2-88aa9f1cdb99"
      },
      "execution_count": 22,
      "outputs": [
        {
          "output_type": "stream",
          "name": "stdout",
          "text": [
            "You: Hi\n",
            "Chatbot: Hello! How can I help you today?\n",
            "You: who are you?\n",
            "Chatbot: I'm RuleBot, your simple chatbot assistant.\n",
            "You: how are you?\n",
            "Chatbot: I'm just code, but I’m running smoothly. How about you?\n",
            "You: how are you\n",
            "Chatbot: I'm just code, but I’m running smoothly. How about you?\n",
            "You: bye\n",
            "Chatbot: Goodbye! Take care!\n",
            "You: exit\n",
            "Chatbot: Goodbye!\n"
          ]
        }
      ]
    },
    {
      "cell_type": "code",
      "source": [],
      "metadata": {
        "id": "EdjRo_5O9pEs"
      },
      "execution_count": null,
      "outputs": []
    }
  ]
}